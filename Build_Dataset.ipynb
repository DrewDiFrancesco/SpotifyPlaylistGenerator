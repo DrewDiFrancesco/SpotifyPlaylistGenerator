{
 "cells": [
  {
   "cell_type": "code",
   "execution_count": 1,
   "metadata": {},
   "outputs": [],
   "source": [
    "import numpy as np\n",
    "import pandas as pd\n",
    "import spotipy\n",
    "from spotipy.oauth2 import SpotifyClientCredentials\n",
    "import spotipy.util as util\n",
    "from spotipy.oauth2 import SpotifyOAuth\n",
    "from sklearn.cluster import KMeans\n",
    "import os\n",
    "\n",
    "wd = os.getcwd()\n",
    "head, tail = wd.rsplit('\\\\', 1)\n",
    "head = head.replace('\\\\', '/')\n",
    "\n",
    "try:\n",
    "    from configparser import ConfigParser\n",
    "except ImportError:\n",
    "    from ConfigParser import ConfigParser\n",
    "\n",
    "config = ConfigParser()\n",
    "config.read(head + '/config.ini')\n",
    "\n",
    "client_id = config['DEFAULT']['client_id']\n",
    "client_secret = config['DEFAULT']['client_secret']\n",
    "redirect_uri = config['DEFAULT']['redirect_uri']\n",
    "username = config['DEFAULT']['username']\n",
    "\n",
    "client_credentials_manager = SpotifyClientCredentials(client_id, client_secret)\n",
    "scope = 'user-library-read'\n",
    "token = util.prompt_for_user_token(username, scope, client_id=client_id, client_secret=client_secret, redirect_uri=redirect_uri)\n",
    "sp = spotipy.Spotify(auth=token)"
   ]
  },
  {
   "cell_type": "code",
   "execution_count": 3,
   "metadata": {},
   "outputs": [],
   "source": [
    "def analyze_playlist(creator, playlist_id):\n",
    "    \n",
    "    # Create empty dataframe\n",
    "    playlist_features_list = [\"artist\", \"album\", \"track_name\", \"track_id\", \n",
    "                             \"danceability\", \"energy\", \"key\", \"loudness\", \"mode\", \"speechiness\",\n",
    "                             \"acousticness\",\"instrumentalness\", \"liveness\", \"valence\", \"tempo\", \"duration_ms\", \n",
    "                                \"time_signature\"]\n",
    "    playlist_df = pd.DataFrame(columns = playlist_features_list)\n",
    "    \n",
    "    # Create empty dict\n",
    "    playlist_features = {}\n",
    "    \n",
    "    # Loop through every track in the playlist, extract features and append the features to the playlist df\n",
    "    playlist = sp.user_playlist_tracks(creator, playlist_id)[\"items\"]\n",
    "    for track in playlist:\n",
    "        # Get metadata\n",
    "        playlist_features[\"artist\"] = track[\"track\"][\"album\"][\"artists\"][0][\"name\"]\n",
    "        playlist_features[\"album\"] = track[\"track\"][\"album\"][\"name\"]\n",
    "        playlist_features[\"track_name\"] = track[\"track\"][\"name\"]\n",
    "        playlist_features[\"track_id\"] = track[\"track\"][\"id\"]\n",
    "        # Get audio features\n",
    "        audio_features = sp.audio_features(playlist_features[\"track_id\"])[0]\n",
    "        for feature in playlist_features_list[4:]:\n",
    "            playlist_features[feature] = audio_features[feature]\n",
    "        \n",
    "        # Concat the dfs\n",
    "        track_df = pd.DataFrame(playlist_features, index = [0])\n",
    "        playlist_df = pd.concat([playlist_df, track_df], ignore_index = True)\n",
    "        \n",
    "    return playlist_df"
   ]
  },
  {
   "cell_type": "code",
   "execution_count": 4,
   "metadata": {},
   "outputs": [],
   "source": [
    "def analyze_playlist_dict(playlist_dict):\n",
    "    \n",
    "    # Loop through every playlist in the dict and analyze it\n",
    "    for i, (key, val) in enumerate(playlist_dict.items()):\n",
    "        playlist_df = analyze_playlist(*val)\n",
    "        # Add a playlist column so that we can see which playlist a track belongs too\n",
    "        playlist_df[\"playlist\"] = key\n",
    "        # Create or concat df\n",
    "        if i == 0:\n",
    "            playlist_dict_df = playlist_df\n",
    "        else:\n",
    "            playlist_dict_df = pd.concat([playlist_dict_df, playlist_df], ignore_index = True)\n",
    "            \n",
    "    return playlist_dict_df"
   ]
  },
  {
   "cell_type": "code",
   "execution_count": 50,
   "metadata": {},
   "outputs": [],
   "source": [
    "# Scraping a bunch of large playlists to build up a set up song features\n",
    "playlist_dict = {\n",
    "    \"Largest_Playlist\" : (\"gabrieledepaor41\", \"2sRZldX6n9oaII70OoO3zB\"), \n",
    "    \"The_Largest_Playlist_on_Spotify\" : (\"Jacob Diehl\", \"1XhVM7jWPrGLTiNiAy97Za\"),\n",
    "    \"Largest_Aesthetic_Rap_Playlist\" : (\"waiuwufu\", \"19S6IBSHtRvnXTDilok2MP\"),\n",
    "    \"Largest_clean_work_playlist\" : (\"Wilson White\",\"0hcjRDXanWbhILffggEFme\"),\n",
    "    \"Worlds_Largest_Playlist\" : (\"jaydenrios\",\"7eQUJ3fBA5gnubuiwZN1xw\"),\n",
    "    \"Largest_Playlist_garfield\" : (\"Similarity\",\"5vP7h3L0Wxjk5YQvPAyUvR\"),\n",
    "    \"the_largest_hyperpop_playlist\" : (\"zaderules\",\"76rY59e5BGvV3DlJRVw8gL\"),\n",
    "    \"Essential_Indie\" : (\"Spotify\", \"37i9dQZF1DX26DKvjp0s9M\"), \n",
    "    \"Early_Alternative\" : (\"Spotify\", \"37i9dQZF1DXdTCdwCKzXwo\"),\n",
    "    \"Alternative_10s\" : (\"Spotify\", \"37i9dQZF1DX873GaRGUmPl\"),\n",
    "    \"The_New_Alt\" : (\"Spotify\",\"37i9dQZF1DX82GYcclJ3Ug\"),\n",
    "    \"Rock_This\" : (\"Spotify\",\"37i9dQZF1DXcF6B6QPhFDv\"),\n",
    "    \"Rock_Classics\" : (\"Spotify\",\"37i9dQZF1DWXRqgorJj26U\"),\n",
    "    \"sunnnn\" : (\"drewdifrancesco\", \"4Fzuns1RQjyBu06bH22wpd\"), \n",
    "    \"pop_show\" : (\"drewdifrancesco\", \"4OviVMMnkPNR98IoDAhyiA\"),\n",
    "    \"rainy_day\" : (\"drewdifrancesco\", \"3sdy8Oo8ndPgNC5I0nneer\"),\n",
    "    \"windows_down\" : (\"drewdifrancesco\",\"43IKQrkOYRDiBwuT0nQ8zI\"),\n",
    "    \"sliding_in_socks\" : (\"drewdifrancesco\",\"0ZtszsPRTutWeNcurhPN7b\"),\n",
    "    \"9_story_parking_lot\" : (\"drewdifrancesco\",\"5wS9lfGOt0xYLcBqmGrYlx\"),\n",
    "    \"hopeless\" : (\"drewdifrancesco\",\"5G7LY9Cyx2F0659b87Loy0\"),\n",
    "    \"Greatest_Hits_all_Genre\" : (\"Brandon Foster\", \"7bKpDLk9h1MhZPYDHWkk9I\"), \n",
    "    \"all_genres_no_skip_type_beat\" : (\"derrickcastro\", \"5JuT3NiwgGyZWkjzuSMk4t\"),\n",
    "    \"top_1000+_songs_of_every_genre_of_all_time\" : (\"Margaret Kopoulos\", \"4zwCgb1Igqn4azWiGUEYi7\"),\n",
    "    \"Ultimate_Party_Mix_All_Genres\" : (\"Mike Craig\",\"1C49yxU1XBkoq5yaVDbJwx\"),\n",
    "    \"no_skips_on_aux\" : (\"tommyloftus\",\"6IOwPVY870PVzxrDkzREPT\"),\n",
    "    \"Best_Music_of_all_Time\" : (\"JLLs\",\"2cyihP2rQm4u2NrmnGG2KF\"),\n",
    "    \"500_best_albums_of_all_time\" : (\"AS21\", \"4KmcBdDIbHeO0alvCfk2TC\"), \n",
    "    \"Greatest_Hits_of_All_Time\" : (\"DJ-on\", \"7oyTlM7RLR5LYRhDtcSsit\"),\n",
    "    \"best_playlist_ever_to_exist\" : (\"cody\", \"3Q3wcJbfeaULXxOo7WhVzk\"),\n",
    "    \"Best_Electronic_Music_Of_All_Time_&_Top_EDM\" : (\"EDM Sauce\",\"0veUfZImTY5RCU2uPcvB8s\"),\n",
    "    \"All_time_electronic_music\" : (\"Roy aragon\",\"0eA0F7BT0UD0iWoIKiLw0A\"),\n",
    "    \"All_Bangers_all_the_Time\" : (\"Torrell Booker\",\"5Sga5y4Mufxn7dvePOMUPM\"),\n",
    "    \"All_Time_Rock_Hits\" : (\"Matt Fuller\",\"0AAYZ2yy7FOK4reAKl6Ont\"),\n",
    "    \"Best_Rock_songs_of_All_Time\" : (\"IndieMassive Hits\", \"1puQ0hv40TUre24cFillJS\"), \n",
    "    \"The_best_alternative_rock_songs_of_all_time\" : (\"cujoman31\", \"7nH2S7ZPvQmA3x8dsG3zdq\"),\n",
    "    \"Best_Rap_of_All_Time_Goat\" : (\"d3rek.t\", \"4n2ikSftK0aQban4IFPqU6\"),\n",
    "    \"Rap_Hits_Of_All_Time\" : (\"Membrives\",\"3rIeHIUNXKBW7fsKij4SCd\"),\n",
    "    \"Best_Old_School_Rap_Playlist\" : (\"spiller1211\",\"1FnkrdJqaAKfDw87DA1ofl\"),\n",
    "    \"Progressive_House_All_Time_Favorites\" : (\"Mert Tunay\", \"626UDFY53J9Fma3om0Jkx8\"), \n",
    "    \"teatime\" : (\"laurengeiser1\", \"4KGkydDtqD0uAW6HKGwXQI\"),\n",
    "    \"Hotdog_Birthday_Party\" : (\"laurengeiser1\", \"1C7UZTulFEH1OWyQ7TDNO7\"),\n",
    "    \"The_Greatest_Soul_Songs_of_All_Time\" : (\"Lee Coursey\",\"54te8eYX25KWaq1qOcOgWZ\"),\n",
    "    \"Jazz_Classics\" : (\"Spotify\",\"37i9dQZF1DXbITWG1ZJKYt\"),\n",
    "    \"MY_FAVORITE_ALL_TIME_MUSIC_EVER\" : (\"dazlovestrance\",\"4gydXtIwFVHvrtIdypkfKx\"),\n",
    "    \"Bedroom_Pop\" : (\"Spotify\",\"37i9dQZF1DXcxvFzl58uP7\"),\n",
    "    \"Best_Hits_of_All_Time\" : (\"Pieter De Beucker\", \"463T5MDn5YxLpA7mcg9nq1\"), \n",
    "    \"Best_Classical_Music_Of_All_Time\" : (\"Ted\", \"0bJvpsn0TDZwIDUjz4d75S\"),\n",
    "    \"THE_LONGEST_PLAYLIST_ON_SPOTIFY\" : (\"cecilia\",\"5PnZwfGAngDVXWEHHKRCAP\"),\n",
    "    \"Longest_Playlist_ever_+6000\" : (\"SkylahListens\",\"5oZjXwvrbAJ29Beza3h1bn\"),\n",
    "    \"Longest_Playlist_on_spotify\" : (\"Mr moo\",\"0ntC6utoa1Ea8oo5R5fAVe\"),\n",
    "    \"the_longest_playlist_i_have\" : (\"maddy\", \"2hgBVAx2Q25G0fgmboZzlr\"), \n",
    "    \"every_song_ever_basically\" : (\"makenaeel\", \"7xCOF8dQ4X2HfYsctRYG0u\"),\n",
    "    \"Most_popular_music_2010_2020\" : (\"jhoset\", \"3VS9luDoG54XlJuBIuOYA9\"),\n",
    "    \"60s_70s_80s_Popular_Music\" : (\"mattalizer\", \"0LEbhcWqOsiIlQn9HHVN4S\"),\n",
    "    \"Popular_2000s_Music\" : (\"ToxicFoxx\", \"4QDXK01KcMs51G7vM7gTC8\"),\n",
    "    \"_\" : (\"jordan\", \"6Xkj5jjuPZ2iTOWwn45t1H\"),\n",
    "    \"Amazing_music\" : (\"ExoticFoxy\", \"0HzDWXkUg7YiiSIomlSSrH\"),\n",
    "    \"BEST_SONGS_OF_ALL_TIME\" : (\"Best Songs of All Time\", \"0gqrnk12Q8OExuCeKyBRCq\"),\n",
    "    \"best_music_heart\" : (\"yasmeiri\", \"4Q5V8SVz9CaoVXxT95i5mx\"),\n",
    "    \"BEST_MUSIC_OF_2022\" : (\"Gustavo Heineken\", \"1I5IMKDLKyzKoOPMaEWu5w\"),\n",
    "    \"Best_taste_in_music\" : (\"jaydengu\", \"42sqNnIxQXLBf3IINn2d9q\"),\n",
    "    \"blasting_music_in_the_car_with_all_the_windows_down\" : (\"kgzanni5\", \"38jPVm0hVi8jlkpis47YyW\")\n",
    "}"
   ]
  },
  {
   "cell_type": "code",
   "execution_count": 51,
   "metadata": {},
   "outputs": [
    {
     "name": "stdout",
     "output_type": "stream",
     "text": [
      "Wall time: 11min 51s\n"
     ]
    }
   ],
   "source": [
    "%%time\n",
    "multiple_playlist_df = analyze_playlist_dict(playlist_dict)"
   ]
  },
  {
   "cell_type": "code",
   "execution_count": 52,
   "metadata": {},
   "outputs": [],
   "source": [
    "multiple_playlist_df = multiple_playlist_df.drop_duplicates()"
   ]
  },
  {
   "cell_type": "code",
   "execution_count": 53,
   "metadata": {},
   "outputs": [
    {
     "data": {
      "text/plain": [
       "102222"
      ]
     },
     "execution_count": 53,
     "metadata": {},
     "output_type": "execute_result"
    }
   ],
   "source": [
    "multiple_playlist_df.size"
   ]
  },
  {
   "cell_type": "code",
   "execution_count": 54,
   "metadata": {},
   "outputs": [],
   "source": [
    "multiple_playlist_df.to_csv(\"spotifySongFeatureData.csv\",index=False)"
   ]
  },
  {
   "cell_type": "code",
   "execution_count": null,
   "metadata": {},
   "outputs": [],
   "source": []
  }
 ],
 "metadata": {
  "kernelspec": {
   "display_name": "Python 3",
   "language": "python",
   "name": "python3"
  },
  "language_info": {
   "codemirror_mode": {
    "name": "ipython",
    "version": 3
   },
   "file_extension": ".py",
   "mimetype": "text/x-python",
   "name": "python",
   "nbconvert_exporter": "python",
   "pygments_lexer": "ipython3",
   "version": "3.8.5"
  }
 },
 "nbformat": 4,
 "nbformat_minor": 4
}
